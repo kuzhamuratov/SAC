{
 "cells": [
  {
   "cell_type": "code",
   "execution_count": 2,
   "metadata": {},
   "outputs": [],
   "source": [
    "import argparse\n",
    "import gym\n",
    "import numpy as np\n",
    "import torch\n",
    "from sac import SAC\n",
    "import robel"
   ]
  },
  {
   "cell_type": "code",
   "execution_count": 3,
   "metadata": {},
   "outputs": [
    {
     "name": "stdout",
     "output_type": "stream",
     "text": [
      "Assigning group \"torso\" with device: [1 - Connected] {htc}vr_tracker_vive_1_0 (LHR-3FD8FA1A)\n"
     ]
    }
   ],
   "source": [
    "env = gym.make(\"DKittyOrientRandomDynamics-v0\" , device_path='/dev/ttyUSB0', torso_tracker_id=1)\n",
    "env.seed(42)\n",
    "env.action_space.seed(42)\n",
    "env._max_episode_steps = 80 ####### TO CHECK ITs consistent with PEARL (Arsen)\n",
    "torch.manual_seed(42)\n",
    "np.random.seed(42)"
   ]
  },
  {
   "cell_type": "code",
   "execution_count": 4,
   "metadata": {},
   "outputs": [],
   "source": [
    "class Args:\n",
    "    def __init__(self):\n",
    "        self.policy = \"Gaussian\"\n",
    "        self.eval = True\n",
    "        self.gamma = 0.99\n",
    "        self.tau = 0.005\n",
    "        self.lr = 0.0003\n",
    "        self.alpha = 0.2\n",
    "        self.automatic_entropy_tuning = False\n",
    "        self.batch_size = 256\n",
    "        self.num_steps = 1000001\n",
    "        self.hidden_size = 256\n",
    "        self.update_per_step = 1\n",
    "        self.start_steps = 10000\n",
    "        self.target_update_interval = 1\n",
    "        self.replay_size = 1000000\n",
    "        self.cuda = False\n",
    "args = Args()"
   ]
  },
  {
   "cell_type": "code",
   "execution_count": 5,
   "metadata": {},
   "outputs": [],
   "source": [
    "    agent = SAC(env.observation_space.shape[0], env.action_space, args)"
   ]
  },
  {
   "cell_type": "code",
   "execution_count": 6,
   "metadata": {},
   "outputs": [
    {
     "name": "stdout",
     "output_type": "stream",
     "text": [
      "Loading models from ./models/sac_actor_DKittyOrientRandomDynamics-v0_ and ./models/sac_critic_DKittyOrientRandomDynamics-v0_\n"
     ]
    }
   ],
   "source": [
    "agent.load_model(\"./models/sac_actor_DKittyOrientRandomDynamics-v0_\",\n",
    "                 \"./models/sac_critic_DKittyOrientRandomDynamics-v0_\")"
   ]
  },
  {
   "cell_type": "code",
   "execution_count": 7,
   "metadata": {},
   "outputs": [
    {
     "name": "stderr",
     "output_type": "stream",
     "text": [
      "WARNING:root:No rendering context; not uploading height field.\n"
     ]
    },
    {
     "name": "stdout",
     "output_type": "stream",
     "text": [
      "Upright: 0.997421, height: -1.572141\n",
      "Upright: 0.999971, height: -0.714993\n"
     ]
    },
    {
     "name": "stderr",
     "output_type": "stream",
     "text": [
      "WARNING:root:Ignoring setting rotation for group: \"torso\"\n"
     ]
    },
    {
     "name": "stdout",
     "output_type": "stream",
     "text": [
      "Angle 3.0467104741970212\n",
      "Angle 2.8260840975675188\n",
      "Angle 2.7409691525065014\n",
      "Angle 2.8074220208545317\n",
      "Angle 2.838299052304249\n",
      "Angle 2.8506984305060956\n",
      "Angle 2.779952551313656\n",
      "Angle 2.8035832283036632\n",
      "Angle 2.8589467078199515\n",
      "Angle 2.871173167456888\n",
      "Angle 2.8836889368946337\n",
      "Angle 2.820427098477945\n",
      "Angle 2.7375308538275687\n",
      "Angle 2.7525120379478007\n",
      "Angle 2.812464068626084\n",
      "Angle 2.801454089639137\n",
      "Angle 2.7493235789164263\n",
      "Angle 2.7536917514581085\n",
      "Angle 2.8232856876494337\n",
      "Angle 2.7918488540012776\n",
      "Angle 2.700383724167426\n",
      "Angle 2.6817523861666266\n",
      "Angle 2.7722210360702686\n",
      "Angle 2.7436511218528143\n",
      "Angle 2.704082731395054\n",
      "Angle 2.6637082580189406\n",
      "Angle 2.6834859337997243\n",
      "Angle 2.6948604653631887\n",
      "Angle 2.7258440439249783\n",
      "Angle 2.6824649737863124\n",
      "Angle 2.600678130106635\n",
      "Angle 2.5850783481686066\n",
      "Angle 2.652941232524529\n",
      "Angle 2.607446061647138\n",
      "Angle 2.5399988141356302\n",
      "Angle 2.5356999428818083\n",
      "Angle 2.63015913749934\n",
      "Angle 2.571544818122831\n",
      "Angle 2.48474519198996\n",
      "Angle 2.4904775052557335\n",
      "Angle 2.560509579121107\n",
      "Angle 2.5188293138100044\n",
      "Angle 2.4684291398775438\n",
      "Angle 2.497112759506067\n",
      "Angle 2.5438622564960953\n",
      "Angle 2.509224257027293\n",
      "Angle 2.4578163621365876\n",
      "Angle 2.4801067911279127\n",
      "Angle 2.5332792789463165\n",
      "Angle 2.537189722514315\n",
      "Angle 2.525507372072183\n",
      "Angle 2.516259080232829\n",
      "Angle 2.534390598150767\n",
      "Angle 2.545181385432977\n",
      "Angle 2.5315841103870955\n",
      "Angle 2.561403663787469\n",
      "Angle 2.5739024054215287\n",
      "Angle 2.5658943706944672\n",
      "Angle 2.566874781441317\n",
      "Angle 2.664974168359695\n",
      "Angle 2.6810915496518173\n",
      "Angle 2.6160037456081433\n",
      "Angle 2.5829284912844868\n",
      "Angle 2.6178930519032653\n",
      "Angle 2.5584933746691743\n",
      "Angle 2.563725405372422\n",
      "Angle 2.6452915706626405\n",
      "Angle 2.5770050602191836\n",
      "Angle 2.460729649272829\n",
      "Angle 2.463555528748791\n",
      "Angle 2.566514879885677\n",
      "Angle 2.6134071116149515\n",
      "Angle 2.6330974555731776\n",
      "Angle 2.5560330513767013\n",
      "Angle 2.547846172204871\n",
      "Angle 2.4393836389279597\n",
      "Angle 2.395138467043437\n",
      "Angle 2.4175247790327763\n",
      "Angle 2.4203182424924012\n"
     ]
    },
    {
     "name": "stderr",
     "output_type": "stream",
     "text": [
      "WARNING:root:No rendering context; not uploading height field.\n"
     ]
    },
    {
     "name": "stdout",
     "output_type": "stream",
     "text": [
      "Angle 2.4088943798369704\n",
      "SUCCESS False\n",
      "Upright: 0.997687, height: -0.821245\n",
      "Upright: 0.999653, height: -0.733653\n"
     ]
    },
    {
     "name": "stderr",
     "output_type": "stream",
     "text": [
      "WARNING:root:Ignoring setting rotation for group: \"torso\"\n"
     ]
    },
    {
     "name": "stdout",
     "output_type": "stream",
     "text": [
      "Angle 3.0424882369624937\n",
      "Angle 2.835463161137305\n",
      "Angle 2.7343045056128523\n",
      "Angle 2.8024844222049334\n",
      "Angle 2.8919965368005336\n",
      "Angle 2.910365800236685\n",
      "Angle 2.8385647171450743\n",
      "Angle 2.8462802061071395\n",
      "Angle 2.9413607169561793\n",
      "Angle 2.95479212660777\n",
      "Angle 2.883084471194788\n",
      "Angle 2.7588093031247634\n",
      "Angle 2.79879124147122\n",
      "Angle 2.8942777474029135\n",
      "Angle 2.922515881015052\n",
      "Angle 2.8272597112451483\n",
      "Angle 2.804703535809474\n",
      "Angle 2.9028249793137824\n",
      "Angle 2.9500974600548364\n",
      "Angle 2.8958211506033917\n",
      "Angle 2.8074659413127483\n",
      "Angle 2.8186840659243493\n",
      "Angle 2.90954146897561\n",
      "Angle 2.9629524155732696\n",
      "Angle 2.981795517938696\n",
      "Angle 2.8726138263270795\n",
      "Angle 2.871388488832525\n",
      "Angle 2.931606250750397\n",
      "Angle 2.8989569856000412\n",
      "Angle 2.9165238980290167\n",
      "Angle 2.8749874104404363\n",
      "Angle 2.8290243491124\n",
      "Angle 2.8630906845712585\n",
      "Angle 2.964820813893726\n",
      "Angle 2.915834621813489\n",
      "Angle 2.8414524536001755\n",
      "Angle 2.869384479875878\n",
      "Angle 2.975110728966828\n",
      "Angle 2.928293234690843\n",
      "Angle 2.8614365042975347\n",
      "Angle 2.889798806666925\n",
      "Angle 2.968995632480181\n",
      "Angle 2.9161466939413128\n",
      "Angle 2.832315443242644\n",
      "Angle 2.8337091567464014\n",
      "Angle 2.931726087862881\n",
      "Angle 2.8956218716495252\n",
      "Angle 2.806416568550793\n",
      "Angle 2.7980415687712883\n",
      "Angle 2.89345893573345\n",
      "Angle 2.8427948577871067\n",
      "Angle 2.749145295377231\n",
      "Angle 2.7450620007735296\n",
      "Angle 2.822629167922442\n",
      "Angle 2.8796444188712735\n",
      "Angle 2.840056546932614\n",
      "Angle 2.764986122008208\n",
      "Angle 2.8080018488910414\n",
      "Angle 2.8785631691040034\n",
      "Angle 2.8106962925931334\n",
      "Angle 2.7291517051174585\n",
      "Angle 2.711148864244505\n",
      "Angle 2.7736479862648924\n",
      "Angle 2.8044021393536966\n",
      "Angle 2.6659151012546998\n",
      "Angle 2.65185345096527\n",
      "Angle 2.7038187642385294\n",
      "Angle 2.806681503286626\n",
      "Angle 2.759205139778313\n",
      "Angle 2.6756107710930213\n",
      "Angle 2.6131553440929256\n",
      "Angle 2.64831093460705\n",
      "Angle 2.7117257672399386\n",
      "Angle 2.740291165957961\n",
      "Angle 2.7042857955086825\n",
      "Angle 2.669688361451711\n",
      "Angle 2.6624417189952334\n",
      "Angle 2.7189227677493037\n",
      "Angle 2.7058101316112384\n"
     ]
    },
    {
     "name": "stderr",
     "output_type": "stream",
     "text": [
      "WARNING:root:No rendering context; not uploading height field.\n"
     ]
    },
    {
     "name": "stdout",
     "output_type": "stream",
     "text": [
      "Angle 2.6627104508658284\n",
      "SUCCESS False\n",
      "Upright: 0.999966, height: -0.769888\n",
      "Upright: 0.999967, height: -0.769856\n"
     ]
    },
    {
     "name": "stderr",
     "output_type": "stream",
     "text": [
      "WARNING:root:Ignoring setting rotation for group: \"torso\"\n"
     ]
    },
    {
     "name": "stdout",
     "output_type": "stream",
     "text": [
      "Angle 3.1415608996453335\n",
      "Angle 3.1415608996453335\n",
      "Angle 3.1415608996453335\n",
      "Angle 3.1415608996453335\n",
      "Angle 3.1415608996453335\n",
      "Angle 3.1415608996453335\n",
      "Angle 3.1415608996453335\n",
      "Angle 3.1415608996453335\n",
      "Angle 3.1415608996453335\n",
      "Angle 3.1415608996453335\n",
      "Angle 3.1415608996453335\n",
      "Angle 3.1415608996453335\n",
      "Angle 3.1415608996453335\n",
      "Angle 3.1415608996453335\n",
      "Angle 3.1415608996453335\n",
      "Angle 3.1415608996453335\n",
      "Angle 3.1415608996453335\n",
      "Angle 3.1415608996453335\n",
      "Angle 3.1415608996453335\n",
      "Angle 3.1415608996453335\n",
      "Angle 3.1415608996453335\n",
      "Angle 3.1415608996453335\n",
      "Angle 3.1415608996453335\n",
      "Angle 3.1415608996453335\n",
      "Angle 3.1415608996453335\n",
      "Angle 3.1415608996453335\n",
      "Angle 3.1415608996453335\n",
      "Angle 3.1415608996453335\n",
      "Angle 3.1415608996453335\n",
      "Angle 3.1415608996453335\n",
      "Angle 3.1415608996453335\n",
      "Angle 3.1415608996453335\n",
      "Angle 3.1415608996453335\n",
      "Angle 3.1415608996453335\n",
      "Angle 3.1415608996453335\n",
      "Angle 3.1415608996453335\n",
      "Angle 3.1415608996453335\n",
      "Angle 3.1415608996453335\n",
      "Angle 3.1415608996453335\n",
      "Angle 3.1415608996453335\n",
      "Angle 3.1415608996453335\n",
      "Angle 3.1415608996453335\n",
      "Angle 3.1415608996453335\n",
      "Angle 0.45744933403632415\n",
      "Angle 0.45744933403632415\n",
      "Angle 0.45744933403632415\n",
      "Angle 0.45744933403632415\n",
      "Angle 0.45744933403632415\n",
      "Angle 0.45744933403632415\n",
      "Angle 0.45744933403632415\n",
      "Angle 0.45744933403632415\n",
      "Angle 0.45744933403632415\n",
      "Angle 0.45744933403632415\n",
      "Angle 0.45744933403632415\n",
      "Angle 0.45744933403632415\n",
      "Angle 0.45744933403632415\n",
      "Angle 0.45744933403632415\n",
      "Angle 0.45744933403632415\n",
      "Angle 0.45744933403632415\n",
      "Angle 0.45744933403632415\n",
      "Angle 0.45744933403632415\n",
      "Angle 0.45744933403632415\n",
      "Angle 0.45744933403632415\n",
      "Angle 0.45744933403632415\n",
      "Angle 0.45744933403632415\n",
      "Angle 0.45744933403632415\n",
      "Angle 0.45744933403632415\n",
      "Angle 0.45744933403632415\n",
      "Angle 0.45744933403632415\n",
      "Angle 1.1693979189678458\n",
      "Angle 1.1693979189678458\n",
      "Angle 1.1693979189678458\n",
      "Angle 1.1693979189678458\n",
      "Angle 1.1693979189678458\n",
      "Angle 1.1693979189678458\n",
      "Angle 1.1693979189678458\n",
      "Angle 1.1693979189678458\n",
      "Angle 1.1693979189678458\n",
      "Angle 1.1693979189678458\n"
     ]
    },
    {
     "name": "stderr",
     "output_type": "stream",
     "text": [
      "WARNING:root:No rendering context; not uploading height field.\n"
     ]
    },
    {
     "name": "stdout",
     "output_type": "stream",
     "text": [
      "Angle 1.1693979189678458\n",
      "SUCCESS False\n",
      "Upright: 0.998893, height: -0.853037\n"
     ]
    },
    {
     "ename": "KeyboardInterrupt",
     "evalue": "",
     "output_type": "error",
     "traceback": [
      "\u001b[0;31m---------------------------------------------------------------------------\u001b[0m",
      "\u001b[0;31mKeyboardInterrupt\u001b[0m                         Traceback (most recent call last)",
      "\u001b[0;32m<ipython-input-7-05c863e9998a>\u001b[0m in \u001b[0;36m<module>\u001b[0;34m\u001b[0m\n\u001b[1;32m      4\u001b[0m \u001b[0mmax_test_r\u001b[0m \u001b[0;34m=\u001b[0m \u001b[0;34m-\u001b[0m\u001b[0mnp\u001b[0m\u001b[0;34m.\u001b[0m\u001b[0minf\u001b[0m\u001b[0;34m\u001b[0m\u001b[0;34m\u001b[0m\u001b[0m\n\u001b[1;32m      5\u001b[0m \u001b[0;32mfor\u001b[0m \u001b[0m_\u001b[0m  \u001b[0;32min\u001b[0m \u001b[0mrange\u001b[0m\u001b[0;34m(\u001b[0m\u001b[0mepisodes\u001b[0m\u001b[0;34m)\u001b[0m\u001b[0;34m:\u001b[0m\u001b[0;34m\u001b[0m\u001b[0;34m\u001b[0m\u001b[0m\n\u001b[0;32m----> 6\u001b[0;31m     \u001b[0mstate\u001b[0m \u001b[0;34m=\u001b[0m \u001b[0menv\u001b[0m\u001b[0;34m.\u001b[0m\u001b[0mreset\u001b[0m\u001b[0;34m(\u001b[0m\u001b[0;34m)\u001b[0m\u001b[0;34m\u001b[0m\u001b[0;34m\u001b[0m\u001b[0m\n\u001b[0m\u001b[1;32m      7\u001b[0m     \u001b[0;31m# env.render()\u001b[0m\u001b[0;34m\u001b[0m\u001b[0;34m\u001b[0m\u001b[0;34m\u001b[0m\u001b[0m\n\u001b[1;32m      8\u001b[0m     \u001b[0mepisode_reward\u001b[0m \u001b[0;34m=\u001b[0m \u001b[0;36m0\u001b[0m\u001b[0;34m\u001b[0m\u001b[0;34m\u001b[0m\u001b[0m\n",
      "\u001b[0;32m~/anaconda3/lib/python3.7/site-packages/gym/wrappers/time_limit.py\u001b[0m in \u001b[0;36mreset\u001b[0;34m(self, **kwargs)\u001b[0m\n\u001b[1;32m     22\u001b[0m     \u001b[0;32mdef\u001b[0m \u001b[0mreset\u001b[0m\u001b[0;34m(\u001b[0m\u001b[0mself\u001b[0m\u001b[0;34m,\u001b[0m \u001b[0;34m**\u001b[0m\u001b[0mkwargs\u001b[0m\u001b[0;34m)\u001b[0m\u001b[0;34m:\u001b[0m\u001b[0;34m\u001b[0m\u001b[0;34m\u001b[0m\u001b[0m\n\u001b[1;32m     23\u001b[0m         \u001b[0mself\u001b[0m\u001b[0;34m.\u001b[0m\u001b[0m_elapsed_steps\u001b[0m \u001b[0;34m=\u001b[0m \u001b[0;36m0\u001b[0m\u001b[0;34m\u001b[0m\u001b[0;34m\u001b[0m\u001b[0m\n\u001b[0;32m---> 24\u001b[0;31m         \u001b[0;32mreturn\u001b[0m \u001b[0mself\u001b[0m\u001b[0;34m.\u001b[0m\u001b[0menv\u001b[0m\u001b[0;34m.\u001b[0m\u001b[0mreset\u001b[0m\u001b[0;34m(\u001b[0m\u001b[0;34m**\u001b[0m\u001b[0mkwargs\u001b[0m\u001b[0;34m)\u001b[0m\u001b[0;34m\u001b[0m\u001b[0;34m\u001b[0m\u001b[0m\n\u001b[0m",
      "\u001b[0;32m~/anaconda3/lib/python3.7/site-packages/robel/robot_env.py\u001b[0m in \u001b[0;36mreset\u001b[0;34m(self)\u001b[0m\n\u001b[1;32m    217\u001b[0m         \u001b[0mself\u001b[0m\u001b[0;34m.\u001b[0m\u001b[0msim\u001b[0m\u001b[0;34m.\u001b[0m\u001b[0mreset\u001b[0m\u001b[0;34m(\u001b[0m\u001b[0;34m)\u001b[0m\u001b[0;34m\u001b[0m\u001b[0;34m\u001b[0m\u001b[0m\n\u001b[1;32m    218\u001b[0m         \u001b[0mself\u001b[0m\u001b[0;34m.\u001b[0m\u001b[0msim\u001b[0m\u001b[0;34m.\u001b[0m\u001b[0mforward\u001b[0m\u001b[0;34m(\u001b[0m\u001b[0;34m)\u001b[0m\u001b[0;34m\u001b[0m\u001b[0;34m\u001b[0m\u001b[0m\n\u001b[0;32m--> 219\u001b[0;31m         \u001b[0mself\u001b[0m\u001b[0;34m.\u001b[0m\u001b[0m_reset\u001b[0m\u001b[0;34m(\u001b[0m\u001b[0;34m)\u001b[0m\u001b[0;34m\u001b[0m\u001b[0;34m\u001b[0m\u001b[0m\n\u001b[0m\u001b[1;32m    220\u001b[0m \u001b[0;34m\u001b[0m\u001b[0m\n\u001b[1;32m    221\u001b[0m         \u001b[0mobs_dict\u001b[0m \u001b[0;34m=\u001b[0m \u001b[0mself\u001b[0m\u001b[0;34m.\u001b[0m\u001b[0mget_obs_dict\u001b[0m\u001b[0;34m(\u001b[0m\u001b[0;34m)\u001b[0m\u001b[0;34m\u001b[0m\u001b[0;34m\u001b[0m\u001b[0m\n",
      "\u001b[0;32m~/anaconda3/lib/python3.7/site-packages/robel/dkitty/orient.py\u001b[0m in \u001b[0;36m_reset\u001b[0;34m(self)\u001b[0m\n\u001b[1;32m    302\u001b[0m         )\n\u001b[1;32m    303\u001b[0m         \u001b[0mself\u001b[0m\u001b[0;34m.\u001b[0m\u001b[0msim_scene\u001b[0m\u001b[0;34m.\u001b[0m\u001b[0mupload_height_field\u001b[0m\u001b[0;34m(\u001b[0m\u001b[0;36m0\u001b[0m\u001b[0;34m)\u001b[0m\u001b[0;34m\u001b[0m\u001b[0;34m\u001b[0m\u001b[0m\n\u001b[0;32m--> 304\u001b[0;31m         \u001b[0msuper\u001b[0m\u001b[0;34m(\u001b[0m\u001b[0;34m)\u001b[0m\u001b[0;34m.\u001b[0m\u001b[0m_reset\u001b[0m\u001b[0;34m(\u001b[0m\u001b[0;34m)\u001b[0m\u001b[0;34m\u001b[0m\u001b[0;34m\u001b[0m\u001b[0m\n\u001b[0m",
      "\u001b[0;32m~/anaconda3/lib/python3.7/site-packages/robel/dkitty/orient.py\u001b[0m in \u001b[0;36m_reset\u001b[0;34m(self)\u001b[0m\n\u001b[1;32m    259\u001b[0m         \u001b[0mself\u001b[0m\u001b[0;34m.\u001b[0m\u001b[0m_initial_angle\u001b[0m \u001b[0;34m=\u001b[0m \u001b[0mself\u001b[0m\u001b[0;34m.\u001b[0m\u001b[0mnp_random\u001b[0m\u001b[0;34m.\u001b[0m\u001b[0muniform\u001b[0m\u001b[0;34m(\u001b[0m\u001b[0;34m*\u001b[0m\u001b[0mself\u001b[0m\u001b[0;34m.\u001b[0m\u001b[0m_initial_angle_range\u001b[0m\u001b[0;34m)\u001b[0m\u001b[0;34m\u001b[0m\u001b[0;34m\u001b[0m\u001b[0m\n\u001b[1;32m    260\u001b[0m         \u001b[0mself\u001b[0m\u001b[0;34m.\u001b[0m\u001b[0m_target_angle\u001b[0m \u001b[0;34m=\u001b[0m \u001b[0mself\u001b[0m\u001b[0;34m.\u001b[0m\u001b[0mnp_random\u001b[0m\u001b[0;34m.\u001b[0m\u001b[0muniform\u001b[0m\u001b[0;34m(\u001b[0m\u001b[0;34m*\u001b[0m\u001b[0mself\u001b[0m\u001b[0;34m.\u001b[0m\u001b[0m_target_angle_range\u001b[0m\u001b[0;34m)\u001b[0m\u001b[0;34m\u001b[0m\u001b[0;34m\u001b[0m\u001b[0m\n\u001b[0;32m--> 261\u001b[0;31m         \u001b[0msuper\u001b[0m\u001b[0;34m(\u001b[0m\u001b[0;34m)\u001b[0m\u001b[0;34m.\u001b[0m\u001b[0m_reset\u001b[0m\u001b[0;34m(\u001b[0m\u001b[0;34m)\u001b[0m\u001b[0;34m\u001b[0m\u001b[0;34m\u001b[0m\u001b[0m\n\u001b[0m\u001b[1;32m    262\u001b[0m \u001b[0;34m\u001b[0m\u001b[0m\n\u001b[1;32m    263\u001b[0m \u001b[0;34m\u001b[0m\u001b[0m\n",
      "\u001b[0;32m~/anaconda3/lib/python3.7/site-packages/robel/dkitty/orient.py\u001b[0m in \u001b[0;36m_reset\u001b[0;34m(self)\u001b[0m\n\u001b[1;32m    109\u001b[0m     \u001b[0;32mdef\u001b[0m \u001b[0m_reset\u001b[0m\u001b[0;34m(\u001b[0m\u001b[0mself\u001b[0m\u001b[0;34m)\u001b[0m\u001b[0;34m:\u001b[0m\u001b[0;34m\u001b[0m\u001b[0;34m\u001b[0m\u001b[0m\n\u001b[1;32m    110\u001b[0m         \u001b[0;34m\"\"\"Resets the environment.\"\"\"\u001b[0m\u001b[0;34m\u001b[0m\u001b[0;34m\u001b[0m\u001b[0m\n\u001b[0;32m--> 111\u001b[0;31m         \u001b[0mself\u001b[0m\u001b[0;34m.\u001b[0m\u001b[0m_reset_dkitty_standing\u001b[0m\u001b[0;34m(\u001b[0m\u001b[0;34m)\u001b[0m\u001b[0;34m\u001b[0m\u001b[0;34m\u001b[0m\u001b[0m\n\u001b[0m\u001b[1;32m    112\u001b[0m         \u001b[0;31m# Set the initial target position.\u001b[0m\u001b[0;34m\u001b[0m\u001b[0;34m\u001b[0m\u001b[0;34m\u001b[0m\u001b[0m\n\u001b[1;32m    113\u001b[0m         self.tracker.set_state({\n",
      "\u001b[0;32m~/anaconda3/lib/python3.7/site-packages/robel/dkitty/base_env.py\u001b[0m in \u001b[0;36m_reset_dkitty_standing\u001b[0;34m(self, kitty_pos, kitty_vel)\u001b[0m\n\u001b[1;32m    213\u001b[0m         \u001b[0;31m# Perform the scripted reset if we're not doing manual resets.\u001b[0m\u001b[0;34m\u001b[0m\u001b[0;34m\u001b[0m\u001b[0;34m\u001b[0m\u001b[0m\n\u001b[1;32m    214\u001b[0m         \u001b[0;32mif\u001b[0m \u001b[0mself\u001b[0m\u001b[0;34m.\u001b[0m\u001b[0m_hardware_reset\u001b[0m\u001b[0;34m:\u001b[0m\u001b[0;34m\u001b[0m\u001b[0;34m\u001b[0m\u001b[0m\n\u001b[0;32m--> 215\u001b[0;31m             \u001b[0mself\u001b[0m\u001b[0;34m.\u001b[0m\u001b[0m_hardware_reset\u001b[0m\u001b[0;34m.\u001b[0m\u001b[0mreset\u001b[0m\u001b[0;34m(\u001b[0m\u001b[0mrobot\u001b[0m\u001b[0;34m=\u001b[0m\u001b[0mself\u001b[0m\u001b[0;34m.\u001b[0m\u001b[0mrobot\u001b[0m\u001b[0;34m,\u001b[0m \u001b[0mtracker\u001b[0m\u001b[0;34m=\u001b[0m\u001b[0mself\u001b[0m\u001b[0;34m.\u001b[0m\u001b[0mtracker\u001b[0m\u001b[0;34m)\u001b[0m\u001b[0;34m\u001b[0m\u001b[0;34m\u001b[0m\u001b[0m\n\u001b[0m\u001b[1;32m    216\u001b[0m \u001b[0;34m\u001b[0m\u001b[0m\n\u001b[1;32m    217\u001b[0m         \u001b[0;31m# Reset the robot state.\u001b[0m\u001b[0;34m\u001b[0m\u001b[0;34m\u001b[0m\u001b[0;34m\u001b[0m\u001b[0m\n",
      "\u001b[0;32m~/anaconda3/lib/python3.7/site-packages/robel/dkitty/utils/scripted_reset.py\u001b[0m in \u001b[0;36mreset\u001b[0;34m(self, robot, tracker)\u001b[0m\n\u001b[1;32m     89\u001b[0m             \u001b[0;31m# Turned off to save time on env.reset()\u001b[0m\u001b[0;34m\u001b[0m\u001b[0;34m\u001b[0m\u001b[0;34m\u001b[0m\u001b[0m\n\u001b[1;32m     90\u001b[0m             \u001b[0;31m# self._perform_tuck_under()\u001b[0m\u001b[0;34m\u001b[0m\u001b[0;34m\u001b[0m\u001b[0;34m\u001b[0m\u001b[0m\n\u001b[0;32m---> 91\u001b[0;31m             \u001b[0mself\u001b[0m\u001b[0;34m.\u001b[0m\u001b[0m_perform_stand_up\u001b[0m\u001b[0;34m(\u001b[0m\u001b[0;34m)\u001b[0m\u001b[0;34m\u001b[0m\u001b[0;34m\u001b[0m\u001b[0m\n\u001b[0m\u001b[1;32m     92\u001b[0m \u001b[0;34m\u001b[0m\u001b[0m\n\u001b[1;32m     93\u001b[0m     \u001b[0;32mdef\u001b[0m \u001b[0mfinish_action\u001b[0m\u001b[0;34m(\u001b[0m\u001b[0mself\u001b[0m\u001b[0;34m)\u001b[0m\u001b[0;34m:\u001b[0m\u001b[0;34m\u001b[0m\u001b[0;34m\u001b[0m\u001b[0m\n",
      "\u001b[0;32m~/anaconda3/lib/python3.7/site-packages/robel/dkitty/utils/scripted_reset.py\u001b[0m in \u001b[0;36m_perform_stand_up\u001b[0;34m(self)\u001b[0m\n\u001b[1;32m    203\u001b[0m             },\n\u001b[1;32m    204\u001b[0m             \u001b[0mtimeout\u001b[0m\u001b[0;34m=\u001b[0m\u001b[0;36m3\u001b[0m\u001b[0;34m,\u001b[0m\u001b[0;34m\u001b[0m\u001b[0;34m\u001b[0m\u001b[0m\n\u001b[0;32m--> 205\u001b[0;31m             \u001b[0;34m**\u001b[0m\u001b[0mSET_PARAMS\u001b[0m\u001b[0;34m,\u001b[0m\u001b[0;34m\u001b[0m\u001b[0;34m\u001b[0m\u001b[0m\n\u001b[0m\u001b[1;32m    206\u001b[0m         )\n\u001b[1;32m    207\u001b[0m         \u001b[0;31m# Tuck a bit.\u001b[0m\u001b[0;34m\u001b[0m\u001b[0;34m\u001b[0m\u001b[0;34m\u001b[0m\u001b[0m\n",
      "\u001b[0;32m~/anaconda3/lib/python3.7/site-packages/robel/components/robot/robot.py\u001b[0m in \u001b[0;36mset_state\u001b[0;34m(self, state_groups, **kwargs)\u001b[0m\n\u001b[1;32m    125\u001b[0m \u001b[0;34m\u001b[0m\u001b[0m\n\u001b[1;32m    126\u001b[0m         \u001b[0;31m# Set all states at once.\u001b[0m\u001b[0;34m\u001b[0m\u001b[0;34m\u001b[0m\u001b[0;34m\u001b[0m\u001b[0m\n\u001b[0;32m--> 127\u001b[0;31m         \u001b[0mself\u001b[0m\u001b[0;34m.\u001b[0m\u001b[0m_set_group_states\u001b[0m\u001b[0;34m(\u001b[0m\u001b[0mgroup_states\u001b[0m\u001b[0;34m,\u001b[0m \u001b[0;34m**\u001b[0m\u001b[0mkwargs\u001b[0m\u001b[0;34m)\u001b[0m\u001b[0;34m\u001b[0m\u001b[0;34m\u001b[0m\u001b[0m\n\u001b[0m\u001b[1;32m    128\u001b[0m \u001b[0;34m\u001b[0m\u001b[0m\n\u001b[1;32m    129\u001b[0m     def get_initial_state(\n",
      "\u001b[0;32m~/anaconda3/lib/python3.7/site-packages/robel/components/robot/dynamixel_robot.py\u001b[0m in \u001b[0;36m_set_group_states\u001b[0;34m(self, group_states, block, **block_kwargs)\u001b[0m\n\u001b[1;32m    190\u001b[0m         \u001b[0;31m# Block until we've reached the given states.\u001b[0m\u001b[0;34m\u001b[0m\u001b[0;34m\u001b[0m\u001b[0;34m\u001b[0m\u001b[0m\n\u001b[1;32m    191\u001b[0m         \u001b[0;32mif\u001b[0m \u001b[0mblock\u001b[0m\u001b[0;34m:\u001b[0m\u001b[0;34m\u001b[0m\u001b[0;34m\u001b[0m\u001b[0m\n\u001b[0;32m--> 192\u001b[0;31m             \u001b[0mself\u001b[0m\u001b[0;34m.\u001b[0m\u001b[0m_wait_for_desired_states\u001b[0m\u001b[0;34m(\u001b[0m\u001b[0mgroup_states\u001b[0m\u001b[0;34m,\u001b[0m \u001b[0;34m**\u001b[0m\u001b[0mblock_kwargs\u001b[0m\u001b[0;34m)\u001b[0m\u001b[0;34m\u001b[0m\u001b[0;34m\u001b[0m\u001b[0m\n\u001b[0m\u001b[1;32m    193\u001b[0m             \u001b[0;31m# Reset the step time.\u001b[0m\u001b[0;34m\u001b[0m\u001b[0;34m\u001b[0m\u001b[0;34m\u001b[0m\u001b[0m\n\u001b[1;32m    194\u001b[0m             \u001b[0mself\u001b[0m\u001b[0;34m.\u001b[0m\u001b[0mreset_time\u001b[0m\u001b[0;34m(\u001b[0m\u001b[0;34m)\u001b[0m\u001b[0;34m\u001b[0m\u001b[0;34m\u001b[0m\u001b[0m\n",
      "\u001b[0;32m~/anaconda3/lib/python3.7/site-packages/robel/components/robot/hardware_robot.py\u001b[0m in \u001b[0;36m_wait_for_desired_states\u001b[0;34m(self, desired_states, error_tol, timeout, poll_interval, initial_sleep, last_diff_tol, last_diff_ticks)\u001b[0m\n\u001b[1;32m    170\u001b[0m \u001b[0;34m\u001b[0m\u001b[0m\n\u001b[1;32m    171\u001b[0m         \u001b[0;32mif\u001b[0m \u001b[0minitial_sleep\u001b[0m \u001b[0;32mis\u001b[0m \u001b[0;32mnot\u001b[0m \u001b[0;32mNone\u001b[0m \u001b[0;32mand\u001b[0m \u001b[0minitial_sleep\u001b[0m \u001b[0;34m>\u001b[0m \u001b[0;36m0\u001b[0m\u001b[0;34m:\u001b[0m\u001b[0;34m\u001b[0m\u001b[0;34m\u001b[0m\u001b[0m\n\u001b[0;32m--> 172\u001b[0;31m             \u001b[0mtime\u001b[0m\u001b[0;34m.\u001b[0m\u001b[0msleep\u001b[0m\u001b[0;34m(\u001b[0m\u001b[0minitial_sleep\u001b[0m\u001b[0;34m)\u001b[0m\u001b[0;34m\u001b[0m\u001b[0;34m\u001b[0m\u001b[0m\n\u001b[0m\u001b[1;32m    173\u001b[0m \u001b[0;34m\u001b[0m\u001b[0m\n\u001b[1;32m    174\u001b[0m         \u001b[0;32mwhile\u001b[0m \u001b[0;32mTrue\u001b[0m\u001b[0;34m:\u001b[0m\u001b[0;34m\u001b[0m\u001b[0;34m\u001b[0m\u001b[0m\n",
      "\u001b[0;31mKeyboardInterrupt\u001b[0m: "
     ]
    }
   ],
   "source": [
    "avg_reward = 0.\n",
    "avg_success = 0.\n",
    "episodes = 5\n",
    "max_test_r = -np.inf\n",
    "for _  in range(episodes):\n",
    "    state = env.reset()\n",
    "    # env.render()\n",
    "    episode_reward = 0\n",
    "    episode_success = 0\n",
    "    done = False\n",
    "    while not done:\n",
    "        action = agent.select_action(state, evaluate=True)\n",
    "        next_state, reward, done, info = env.step(action)\n",
    "        episode_reward += reward\n",
    "        state = next_state\n",
    "        if info['score/success']:\n",
    "            episode_success = 1\n",
    "        print('Angle', info['obs/angle_error'])\n",
    "    avg_success += episode_success       \n",
    "    avg_reward += episode_reward\n",
    "    \n",
    "    print('SUCCESS', info['score/success'])\n",
    "avg_reward /= episodes\n",
    "avg_success /= episodes\n",
    "\n",
    "print(\"----------------------------------------\")\n",
    "print(\"Test Episodes: {}, Avg. Success: {}\".format(episodes, round(avg_success, 2)))\n",
    "print(\"----------------------------------------\")\n",
    "print(\"Test Episodes: {}, Avg. Reward: {}\".format(episodes, round(avg_reward, 2)))\n",
    "print(\"----------------------------------------\")\n",
    "env.close()"
   ]
  },
  {
   "cell_type": "code",
   "execution_count": 20,
   "metadata": {},
   "outputs": [
    {
     "name": "stdout",
     "output_type": "stream",
     "text": [
      "-0.9967946708927329\n"
     ]
    }
   ],
   "source": [
    "print(state[-1])"
   ]
  },
  {
   "cell_type": "code",
   "execution_count": 10,
   "metadata": {},
   "outputs": [
    {
     "data": {
      "text/plain": [
       "3.1339639719090586"
      ]
     },
     "execution_count": 10,
     "metadata": {},
     "output_type": "execute_result"
    }
   ],
   "source": [
    "info['obs/angle_error']"
   ]
  },
  {
   "cell_type": "code",
   "execution_count": null,
   "metadata": {},
   "outputs": [],
   "source": []
  }
 ],
 "metadata": {
  "kernelspec": {
   "display_name": "Python 3",
   "language": "python",
   "name": "python3"
  },
  "language_info": {
   "codemirror_mode": {
    "name": "ipython",
    "version": 3
   },
   "file_extension": ".py",
   "mimetype": "text/x-python",
   "name": "python",
   "nbconvert_exporter": "python",
   "pygments_lexer": "ipython3",
   "version": "3.7.3"
  }
 },
 "nbformat": 4,
 "nbformat_minor": 2
}
