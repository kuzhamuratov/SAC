{
 "cells": [
  {
   "cell_type": "code",
   "execution_count": 1,
   "metadata": {},
   "outputs": [],
   "source": [
    "import argparse\n",
    "import gym\n",
    "import numpy as np\n",
    "import torch\n",
    "from sac import SAC\n",
    "import robel\n",
    "from updated_env import DKittyWalkRandom, DKittyOrientRandomDynamics"
   ]
  },
  {
   "cell_type": "code",
   "execution_count": 3,
   "metadata": {},
   "outputs": [
    {
     "ename": "InitError_Init_HmdNotFoundPresenceFailed",
     "evalue": "",
     "output_type": "error",
     "traceback": [
      "\u001b[0;31m---------------------------------------------------------------------------\u001b[0m",
      "\u001b[0;31mInitError_Init_HmdNotFoundPresenceFailed\u001b[0m  Traceback (most recent call last)",
      "\u001b[0;32m<ipython-input-3-2b3c70c8cbc9>\u001b[0m in \u001b[0;36m<module>\u001b[0;34m\u001b[0m\n\u001b[0;32m----> 1\u001b[0;31m \u001b[0menv\u001b[0m \u001b[0;34m=\u001b[0m \u001b[0mDKittyWalkRandom\u001b[0m\u001b[0;34m(\u001b[0m\u001b[0mdevice_path\u001b[0m \u001b[0;34m=\u001b[0m \u001b[0;34m'd'\u001b[0m\u001b[0;34m,\u001b[0m \u001b[0mtorso_tracker_id\u001b[0m\u001b[0;34m=\u001b[0m\u001b[0;36m1\u001b[0m\u001b[0;34m,\u001b[0m \u001b[0mreset_type\u001b[0m\u001b[0;34m=\u001b[0m\u001b[0;34m'scripted'\u001b[0m\u001b[0;34m)\u001b[0m \u001b[0;31m#DKittyWalkRandom()#DKittyOrientRandomDynamics([2.]*8) #gym.make(\"DKittyOrientRandomDynamics-v0\")\u001b[0m\u001b[0;34m\u001b[0m\u001b[0;34m\u001b[0m\u001b[0m\n\u001b[0m\u001b[1;32m      2\u001b[0m \u001b[0menv\u001b[0m\u001b[0;34m.\u001b[0m\u001b[0mseed\u001b[0m\u001b[0;34m(\u001b[0m\u001b[0;36m42\u001b[0m\u001b[0;34m)\u001b[0m\u001b[0;34m\u001b[0m\u001b[0;34m\u001b[0m\u001b[0m\n\u001b[1;32m      3\u001b[0m \u001b[0menv\u001b[0m\u001b[0;34m.\u001b[0m\u001b[0maction_space\u001b[0m\u001b[0;34m.\u001b[0m\u001b[0mseed\u001b[0m\u001b[0;34m(\u001b[0m\u001b[0;36m42\u001b[0m\u001b[0;34m)\u001b[0m\u001b[0;34m\u001b[0m\u001b[0;34m\u001b[0m\u001b[0m\n\u001b[1;32m      4\u001b[0m \u001b[0menv\u001b[0m\u001b[0;34m.\u001b[0m\u001b[0m_max_episode_steps\u001b[0m \u001b[0;34m=\u001b[0m \u001b[0;36m160\u001b[0m \u001b[0;31m####### TO CHECK ITs consistent with PEARL (Arsen)\u001b[0m\u001b[0;34m\u001b[0m\u001b[0;34m\u001b[0m\u001b[0m\n\u001b[1;32m      5\u001b[0m \u001b[0mtorch\u001b[0m\u001b[0;34m.\u001b[0m\u001b[0mmanual_seed\u001b[0m\u001b[0;34m(\u001b[0m\u001b[0;36m42\u001b[0m\u001b[0;34m)\u001b[0m\u001b[0;34m\u001b[0m\u001b[0;34m\u001b[0m\u001b[0m\n",
      "\u001b[0;32m~/Arsen/Tests/SAC/updated_env.py\u001b[0m in \u001b[0;36m__init__\u001b[0;34m(self, target_distance_range, target_angle_range, *args, **kwargs)\u001b[0m\n\u001b[1;32m     24\u001b[0m                 \u001b[0mthe\u001b[0m \u001b[0minitial\u001b[0m \u001b[0mD\u001b[0m\u001b[0;31m'\u001b[0m\u001b[0mKitty\u001b[0m \u001b[0mheading\u001b[0m \u001b[0;32mand\u001b[0m \u001b[0mthe\u001b[0m \u001b[0mtarget\u001b[0m\u001b[0;34m.\u001b[0m\u001b[0;34m\u001b[0m\u001b[0;34m\u001b[0m\u001b[0m\n\u001b[1;32m     25\u001b[0m         \"\"\"\n\u001b[0;32m---> 26\u001b[0;31m         \u001b[0msuper\u001b[0m\u001b[0;34m(\u001b[0m\u001b[0;34m)\u001b[0m\u001b[0;34m.\u001b[0m\u001b[0m__init__\u001b[0m\u001b[0;34m(\u001b[0m\u001b[0;34m*\u001b[0m\u001b[0margs\u001b[0m\u001b[0;34m,\u001b[0m \u001b[0;34m**\u001b[0m\u001b[0mkwargs\u001b[0m\u001b[0;34m)\u001b[0m\u001b[0;34m\u001b[0m\u001b[0;34m\u001b[0m\u001b[0m\n\u001b[0m\u001b[1;32m     27\u001b[0m         \u001b[0mself\u001b[0m\u001b[0;34m.\u001b[0m\u001b[0m_target_distance_range\u001b[0m \u001b[0;34m=\u001b[0m \u001b[0mtarget_distance_range\u001b[0m\u001b[0;34m\u001b[0m\u001b[0;34m\u001b[0m\u001b[0m\n\u001b[1;32m     28\u001b[0m         \u001b[0mself\u001b[0m\u001b[0;34m.\u001b[0m\u001b[0m_target_angle_range\u001b[0m \u001b[0;34m=\u001b[0m \u001b[0mtarget_angle_range\u001b[0m\u001b[0;34m\u001b[0m\u001b[0;34m\u001b[0m\u001b[0m\n",
      "\u001b[0;32m~/robel/robel/dkitty/walk.py\u001b[0m in \u001b[0;36m__init__\u001b[0;34m(self, asset_path, observation_keys, target_tracker_id, heading_tracker_id, frame_skip, upright_threshold, upright_reward, falling_reward, **kwargs)\u001b[0m\n\u001b[1;32m     91\u001b[0m             \u001b[0mupright_reward\u001b[0m\u001b[0;34m=\u001b[0m\u001b[0mupright_reward\u001b[0m\u001b[0;34m,\u001b[0m\u001b[0;34m\u001b[0m\u001b[0;34m\u001b[0m\u001b[0m\n\u001b[1;32m     92\u001b[0m             \u001b[0mfalling_reward\u001b[0m\u001b[0;34m=\u001b[0m\u001b[0mfalling_reward\u001b[0m\u001b[0;34m,\u001b[0m\u001b[0;34m\u001b[0m\u001b[0;34m\u001b[0m\u001b[0m\n\u001b[0;32m---> 93\u001b[0;31m             **kwargs)\n\u001b[0m\u001b[1;32m     94\u001b[0m \u001b[0;34m\u001b[0m\u001b[0m\n\u001b[1;32m     95\u001b[0m         \u001b[0mself\u001b[0m\u001b[0;34m.\u001b[0m\u001b[0m_initial_target_pos\u001b[0m \u001b[0;34m=\u001b[0m \u001b[0mnp\u001b[0m\u001b[0;34m.\u001b[0m\u001b[0mzeros\u001b[0m\u001b[0;34m(\u001b[0m\u001b[0;36m3\u001b[0m\u001b[0;34m)\u001b[0m\u001b[0;34m\u001b[0m\u001b[0;34m\u001b[0m\u001b[0m\n",
      "\u001b[0;32m~/robel/robel/dkitty/base_env.py\u001b[0m in \u001b[0;36m__init__\u001b[0;34m(self, torso_tracker_id, upright_obs_key, upright_threshold, upright_reward, falling_reward, *args, **kwargs)\u001b[0m\n\u001b[1;32m    295\u001b[0m         \"\"\"\n\u001b[1;32m    296\u001b[0m         \u001b[0mself\u001b[0m\u001b[0;34m.\u001b[0m\u001b[0m_torso_tracker_id\u001b[0m \u001b[0;34m=\u001b[0m \u001b[0mtorso_tracker_id\u001b[0m\u001b[0;34m\u001b[0m\u001b[0;34m\u001b[0m\u001b[0m\n\u001b[0;32m--> 297\u001b[0;31m         \u001b[0msuper\u001b[0m\u001b[0;34m(\u001b[0m\u001b[0;34m)\u001b[0m\u001b[0;34m.\u001b[0m\u001b[0m__init__\u001b[0m\u001b[0;34m(\u001b[0m\u001b[0;34m*\u001b[0m\u001b[0margs\u001b[0m\u001b[0;34m,\u001b[0m \u001b[0;34m**\u001b[0m\u001b[0mkwargs\u001b[0m\u001b[0;34m)\u001b[0m\u001b[0;34m\u001b[0m\u001b[0;34m\u001b[0m\u001b[0m\n\u001b[0m\u001b[1;32m    298\u001b[0m \u001b[0;34m\u001b[0m\u001b[0m\n\u001b[1;32m    299\u001b[0m         \u001b[0mself\u001b[0m\u001b[0;34m.\u001b[0m\u001b[0m_upright_obs_key\u001b[0m \u001b[0;34m=\u001b[0m \u001b[0mupright_obs_key\u001b[0m\u001b[0;34m\u001b[0m\u001b[0;34m\u001b[0m\u001b[0m\n",
      "\u001b[0;32m~/robel/robel/dkitty/base_env.py\u001b[0m in \u001b[0;36m__init__\u001b[0;34m(self, device_path, sim_observation_noise, reset_type, plot_tracking, phasespace_server, *args, **kwargs)\u001b[0m\n\u001b[1;32m    110\u001b[0m         \u001b[0;31m# Create the components.\u001b[0m\u001b[0;34m\u001b[0m\u001b[0;34m\u001b[0m\u001b[0;34m\u001b[0m\u001b[0m\n\u001b[1;32m    111\u001b[0m         \u001b[0mself\u001b[0m\u001b[0;34m.\u001b[0m\u001b[0mrobot\u001b[0m \u001b[0;34m=\u001b[0m \u001b[0mself\u001b[0m\u001b[0;34m.\u001b[0m\u001b[0m_add_component\u001b[0m\u001b[0;34m(\u001b[0m\u001b[0mrobot_builder\u001b[0m\u001b[0;34m)\u001b[0m\u001b[0;34m\u001b[0m\u001b[0;34m\u001b[0m\u001b[0m\n\u001b[0;32m--> 112\u001b[0;31m         \u001b[0mself\u001b[0m\u001b[0;34m.\u001b[0m\u001b[0mtracker\u001b[0m \u001b[0;34m=\u001b[0m \u001b[0mself\u001b[0m\u001b[0;34m.\u001b[0m\u001b[0m_add_component\u001b[0m\u001b[0;34m(\u001b[0m\u001b[0mtracker_builder\u001b[0m\u001b[0;34m)\u001b[0m\u001b[0;34m\u001b[0m\u001b[0;34m\u001b[0m\u001b[0m\n\u001b[0m\u001b[1;32m    113\u001b[0m \u001b[0;34m\u001b[0m\u001b[0m\n\u001b[1;32m    114\u001b[0m         \u001b[0;31m# Disable the constraint solver in hardware so that mimicked positions\u001b[0m\u001b[0;34m\u001b[0m\u001b[0;34m\u001b[0m\u001b[0;34m\u001b[0m\u001b[0m\n",
      "\u001b[0;32m~/robel/robel/robot_env.py\u001b[0m in \u001b[0;36m_add_component\u001b[0;34m(self, component_builder, **component_kwargs)\u001b[0m\n\u001b[1;32m    556\u001b[0m             \u001b[0msim_scene\u001b[0m\u001b[0;34m=\u001b[0m\u001b[0mself\u001b[0m\u001b[0;34m.\u001b[0m\u001b[0msim_scene\u001b[0m\u001b[0;34m,\u001b[0m\u001b[0;34m\u001b[0m\u001b[0;34m\u001b[0m\u001b[0m\n\u001b[1;32m    557\u001b[0m             \u001b[0mrandom_state\u001b[0m\u001b[0;34m=\u001b[0m\u001b[0mself\u001b[0m\u001b[0;34m.\u001b[0m\u001b[0mnp_random\u001b[0m\u001b[0;34m,\u001b[0m\u001b[0;34m\u001b[0m\u001b[0;34m\u001b[0m\u001b[0m\n\u001b[0;32m--> 558\u001b[0;31m             **component_kwargs)\n\u001b[0m\u001b[1;32m    559\u001b[0m         \u001b[0mself\u001b[0m\u001b[0;34m.\u001b[0m\u001b[0m_components\u001b[0m\u001b[0;34m.\u001b[0m\u001b[0mappend\u001b[0m\u001b[0;34m(\u001b[0m\u001b[0mcomponent\u001b[0m\u001b[0;34m)\u001b[0m\u001b[0;34m\u001b[0m\u001b[0;34m\u001b[0m\u001b[0m\n\u001b[1;32m    560\u001b[0m         \u001b[0;32mreturn\u001b[0m \u001b[0mcomponent\u001b[0m\u001b[0;34m\u001b[0m\u001b[0;34m\u001b[0m\u001b[0m\n",
      "\u001b[0;32m~/robel/robel/components/tracking/builder.py\u001b[0m in \u001b[0;36mbuild\u001b[0;34m(self, *args, **kwargs)\u001b[0m\n\u001b[1;32m     53\u001b[0m         \u001b[0;32mif\u001b[0m \u001b[0mtracker_type\u001b[0m \u001b[0;34m==\u001b[0m \u001b[0mTrackerType\u001b[0m\u001b[0;34m.\u001b[0m\u001b[0mOPENVR\u001b[0m\u001b[0;34m:\u001b[0m\u001b[0;34m\u001b[0m\u001b[0;34m\u001b[0m\u001b[0m\n\u001b[1;32m     54\u001b[0m             return VrTrackerComponent(\n\u001b[0;32m---> 55\u001b[0;31m                 *args, groups=self.group_configs, **kwargs)\n\u001b[0m\u001b[1;32m     56\u001b[0m         \u001b[0;32melif\u001b[0m \u001b[0mtracker_type\u001b[0m \u001b[0;34m==\u001b[0m \u001b[0mTrackerType\u001b[0m\u001b[0;34m.\u001b[0m\u001b[0mPHASESPACE\u001b[0m\u001b[0;34m:\u001b[0m\u001b[0;34m\u001b[0m\u001b[0;34m\u001b[0m\u001b[0m\n\u001b[1;32m     57\u001b[0m             return PhaseSpaceTrackerComponent(\n",
      "\u001b[0;32m~/robel/robel/components/tracking/vr_tracker.py\u001b[0m in \u001b[0;36m__init__\u001b[0;34m(self, *args, **kwargs)\u001b[0m\n\u001b[1;32m     46\u001b[0m             from robel.components.tracking.virtual_reality.client import (\n\u001b[1;32m     47\u001b[0m                 VrClient)\n\u001b[0;32m---> 48\u001b[0;31m             \u001b[0mself\u001b[0m\u001b[0;34m.\u001b[0m\u001b[0m_VR_CLIENT\u001b[0m \u001b[0;34m=\u001b[0m \u001b[0mVrClient\u001b[0m\u001b[0;34m(\u001b[0m\u001b[0;34m)\u001b[0m\u001b[0;34m\u001b[0m\u001b[0;34m\u001b[0m\u001b[0m\n\u001b[0m\u001b[1;32m     49\u001b[0m \u001b[0;34m\u001b[0m\u001b[0m\n\u001b[1;32m     50\u001b[0m         \u001b[0;31m# Check that all devices exist.\u001b[0m\u001b[0;34m\u001b[0m\u001b[0;34m\u001b[0m\u001b[0;34m\u001b[0m\u001b[0m\n",
      "\u001b[0;32m~/robel/robel/components/tracking/virtual_reality/client.py\u001b[0m in \u001b[0;36m__init__\u001b[0;34m(self)\u001b[0m\n\u001b[1;32m     43\u001b[0m             \u001b[0;32mraise\u001b[0m \u001b[0mOSError\u001b[0m\u001b[0;34m(\u001b[0m\u001b[0;34m'OpenVR runtime not installed.'\u001b[0m\u001b[0;34m)\u001b[0m\u001b[0;34m\u001b[0m\u001b[0;34m\u001b[0m\u001b[0m\n\u001b[1;32m     44\u001b[0m \u001b[0;34m\u001b[0m\u001b[0m\n\u001b[0;32m---> 45\u001b[0;31m         \u001b[0mself\u001b[0m\u001b[0;34m.\u001b[0m\u001b[0m_vr_system\u001b[0m \u001b[0;34m=\u001b[0m \u001b[0mopenvr\u001b[0m\u001b[0;34m.\u001b[0m\u001b[0minit\u001b[0m\u001b[0;34m(\u001b[0m\u001b[0mopenvr\u001b[0m\u001b[0;34m.\u001b[0m\u001b[0mVRApplication_Other\u001b[0m\u001b[0;34m)\u001b[0m\u001b[0;34m\u001b[0m\u001b[0;34m\u001b[0m\u001b[0m\n\u001b[0m\u001b[1;32m     46\u001b[0m \u001b[0;34m\u001b[0m\u001b[0m\n\u001b[1;32m     47\u001b[0m     \u001b[0;32mdef\u001b[0m \u001b[0mclose\u001b[0m\u001b[0;34m(\u001b[0m\u001b[0mself\u001b[0m\u001b[0;34m)\u001b[0m\u001b[0;34m:\u001b[0m\u001b[0;34m\u001b[0m\u001b[0;34m\u001b[0m\u001b[0m\n",
      "\u001b[0;32m~/anaconda3/lib/python3.7/site-packages/openvr/__init__.py\u001b[0m in \u001b[0;36minit\u001b[0;34m(applicationType, pStartupInfo)\u001b[0m\n\u001b[1;32m   7168\u001b[0m     \u001b[0mthe\u001b[0m \u001b[0;34m\"drivers\"\u001b[0m \u001b[0mdirectory\u001b[0m \u001b[0;32mand\u001b[0m \u001b[0ma\u001b[0m \u001b[0mplatform\u001b[0m \u001b[0;34m(\u001b[0m\u001b[0mi\u001b[0m\u001b[0;34m.\u001b[0m\u001b[0me\u001b[0m\u001b[0;34m.\u001b[0m \u001b[0;34m\"win32\"\u001b[0m\u001b[0;34m)\u001b[0m \u001b[0mdirectory\u001b[0m \u001b[0;32min\u001b[0m \u001b[0mit\u001b[0m\u001b[0;34m,\u001b[0m \u001b[0;32mnot\u001b[0m \u001b[0mthe\u001b[0m \u001b[0mdirectory\u001b[0m \u001b[0;32mwith\u001b[0m \u001b[0mthe\u001b[0m \u001b[0mDLL\u001b[0m \u001b[0mitself\u001b[0m\u001b[0;34m.\u001b[0m\u001b[0;34m\u001b[0m\u001b[0;34m\u001b[0m\u001b[0m\n\u001b[1;32m   7169\u001b[0m     \"\"\"\n\u001b[0;32m-> 7170\u001b[0;31m     \u001b[0minitInternal2\u001b[0m\u001b[0;34m(\u001b[0m\u001b[0mapplicationType\u001b[0m\u001b[0;34m,\u001b[0m \u001b[0mpStartupInfo\u001b[0m\u001b[0;34m)\u001b[0m\u001b[0;34m\u001b[0m\u001b[0;34m\u001b[0m\u001b[0m\n\u001b[0m\u001b[1;32m   7171\u001b[0m     \u001b[0;31m# Retrieve \"System\" API\u001b[0m\u001b[0;34m\u001b[0m\u001b[0;34m\u001b[0m\u001b[0;34m\u001b[0m\u001b[0m\n\u001b[1;32m   7172\u001b[0m     \u001b[0;32mreturn\u001b[0m \u001b[0mVRSystem\u001b[0m\u001b[0;34m(\u001b[0m\u001b[0;34m)\u001b[0m\u001b[0;34m\u001b[0m\u001b[0;34m\u001b[0m\u001b[0m\n",
      "\u001b[0;32m~/anaconda3/lib/python3.7/site-packages/openvr/__init__.py\u001b[0m in \u001b[0;36minitInternal2\u001b[0;34m(applicationType, startupInfo)\u001b[0m\n\u001b[1;32m   7300\u001b[0m         \u001b[0mstartupInfo\u001b[0m \u001b[0;34m=\u001b[0m \u001b[0mbytes\u001b[0m\u001b[0;34m(\u001b[0m\u001b[0mstartupInfo\u001b[0m\u001b[0;34m,\u001b[0m \u001b[0mencoding\u001b[0m\u001b[0;34m=\u001b[0m\u001b[0;34m'utf-8'\u001b[0m\u001b[0;34m)\u001b[0m\u001b[0;34m\u001b[0m\u001b[0;34m\u001b[0m\u001b[0m\n\u001b[1;32m   7301\u001b[0m     \u001b[0mresult\u001b[0m \u001b[0;34m=\u001b[0m \u001b[0mfn\u001b[0m\u001b[0;34m(\u001b[0m\u001b[0mbyref\u001b[0m\u001b[0;34m(\u001b[0m\u001b[0merror\u001b[0m\u001b[0;34m)\u001b[0m\u001b[0;34m,\u001b[0m \u001b[0mapplicationType\u001b[0m\u001b[0;34m,\u001b[0m \u001b[0mstartupInfo\u001b[0m\u001b[0;34m)\u001b[0m\u001b[0;34m\u001b[0m\u001b[0;34m\u001b[0m\u001b[0m\n\u001b[0;32m-> 7302\u001b[0;31m     \u001b[0mopenvr\u001b[0m\u001b[0;34m.\u001b[0m\u001b[0merror_code\u001b[0m\u001b[0;34m.\u001b[0m\u001b[0mInitError\u001b[0m\u001b[0;34m.\u001b[0m\u001b[0mcheck_error_value\u001b[0m\u001b[0;34m(\u001b[0m\u001b[0merror\u001b[0m\u001b[0;34m.\u001b[0m\u001b[0mvalue\u001b[0m\u001b[0;34m)\u001b[0m\u001b[0;34m\u001b[0m\u001b[0;34m\u001b[0m\u001b[0m\n\u001b[0m\u001b[1;32m   7303\u001b[0m     \u001b[0;32mreturn\u001b[0m \u001b[0mresult\u001b[0m\u001b[0;34m\u001b[0m\u001b[0;34m\u001b[0m\u001b[0m\n\u001b[1;32m   7304\u001b[0m \u001b[0;34m\u001b[0m\u001b[0m\n",
      "\u001b[0;32m~/anaconda3/lib/python3.7/site-packages/openvr/error_code/__init__.py\u001b[0m in \u001b[0;36mcheck_error_value\u001b[0;34m(cls, error_value, message)\u001b[0m\n\u001b[1;32m     21\u001b[0m         \u001b[0;32mif\u001b[0m \u001b[0;32mnot\u001b[0m \u001b[0merror_class\u001b[0m\u001b[0;34m.\u001b[0m\u001b[0mis_error\u001b[0m\u001b[0;34m:\u001b[0m\u001b[0;34m\u001b[0m\u001b[0;34m\u001b[0m\u001b[0m\n\u001b[1;32m     22\u001b[0m             \u001b[0;32mreturn\u001b[0m\u001b[0;34m\u001b[0m\u001b[0;34m\u001b[0m\u001b[0m\n\u001b[0;32m---> 23\u001b[0;31m         \u001b[0;32mraise\u001b[0m \u001b[0merror_class\u001b[0m\u001b[0;34m(\u001b[0m\u001b[0merror_value\u001b[0m\u001b[0;34m,\u001b[0m \u001b[0mmessage\u001b[0m\u001b[0;34m)\u001b[0m\u001b[0;34m\u001b[0m\u001b[0;34m\u001b[0m\u001b[0m\n\u001b[0m\u001b[1;32m     24\u001b[0m \u001b[0;34m\u001b[0m\u001b[0m\n\u001b[1;32m     25\u001b[0m     \u001b[0;32mdef\u001b[0m \u001b[0m__init__\u001b[0m\u001b[0;34m(\u001b[0m\u001b[0mthis\u001b[0m\u001b[0;34m,\u001b[0m \u001b[0merror_value\u001b[0m\u001b[0;34m,\u001b[0m \u001b[0mmessage\u001b[0m\u001b[0;34m=\u001b[0m\u001b[0;34m''\u001b[0m\u001b[0;34m)\u001b[0m\u001b[0;34m:\u001b[0m\u001b[0;34m\u001b[0m\u001b[0;34m\u001b[0m\u001b[0m\n",
      "\u001b[0;31mInitError_Init_HmdNotFoundPresenceFailed\u001b[0m: "
     ]
    }
   ],
   "source": [
    "env = DKittyWalkRandom(device_path = 'd', torso_tracker_id=1, reset_type='scripted') #DKittyWalkRandom()#DKittyOrientRandomDynamics([2.]*8) #gym.make(\"DKittyOrientRandomDynamics-v0\")\n",
    "env.seed(42)\n",
    "env.action_space.seed(42)\n",
    "env._max_episode_steps = 160 ####### TO CHECK ITs consistent with PEARL (Arsen)\n",
    "torch.manual_seed(42)\n",
    "np.random.seed(42)\n",
    "env.reset()"
   ]
  },
  {
   "cell_type": "code",
   "execution_count": 6,
   "metadata": {},
   "outputs": [],
   "source": [
    "env._device_path = 't'\n"
   ]
  },
  {
   "cell_type": "code",
   "execution_count": 9,
   "metadata": {},
   "outputs": [],
   "source": [
    "env._torso_tracker_id = 1"
   ]
  },
  {
   "cell_type": "code",
   "execution_count": 11,
   "metadata": {},
   "outputs": [
    {
     "data": {
      "text/plain": [
       "1"
      ]
     },
     "execution_count": 11,
     "metadata": {},
     "output_type": "execute_result"
    }
   ],
   "source": [
    "env._torso_tracker_id"
   ]
  },
  {
   "cell_type": "code",
   "execution_count": 14,
   "metadata": {},
   "outputs": [
    {
     "data": {
      "text/plain": [
       "['__abstractmethods__',\n",
       " '__class__',\n",
       " '__delattr__',\n",
       " '__dict__',\n",
       " '__dir__',\n",
       " '__doc__',\n",
       " '__enter__',\n",
       " '__eq__',\n",
       " '__exit__',\n",
       " '__format__',\n",
       " '__ge__',\n",
       " '__getattribute__',\n",
       " '__gt__',\n",
       " '__hash__',\n",
       " '__init__',\n",
       " '__init_subclass__',\n",
       " '__le__',\n",
       " '__lt__',\n",
       " '__module__',\n",
       " '__ne__',\n",
       " '__new__',\n",
       " '__reduce__',\n",
       " '__reduce_ex__',\n",
       " '__repr__',\n",
       " '__setattr__',\n",
       " '__sizeof__',\n",
       " '__str__',\n",
       " '__subclasshook__',\n",
       " '__weakref__',\n",
       " '_abc_impl',\n",
       " '_action_space',\n",
       " '_add_component',\n",
       " '_close',\n",
       " '_components',\n",
       " '_configure_robot',\n",
       " '_configure_tracker',\n",
       " '_device_path',\n",
       " '_falling_reward',\n",
       " '_get_last_action',\n",
       " '_get_obs',\n",
       " '_get_total_reward',\n",
       " '_get_upright_obs',\n",
       " '_get_upright_rewards',\n",
       " '_gym_disable_underscore_compat',\n",
       " '_hardware_reset',\n",
       " '_heading_tracker_id',\n",
       " '_initial_heading_pos',\n",
       " '_initial_target_pos',\n",
       " '_initialize_action_space',\n",
       " '_initialize_observation_space',\n",
       " '_initialize_state_space',\n",
       " '_max_episode_steps',\n",
       " '_observation_keys',\n",
       " '_observation_space',\n",
       " '_preprocess_action',\n",
       " '_reset',\n",
       " '_reset_dkitty_standing',\n",
       " '_reward_keys',\n",
       " '_sim_observation_noise',\n",
       " '_state_space',\n",
       " '_step',\n",
       " '_sticky_action_probability',\n",
       " '_target_angle_range',\n",
       " '_target_distance_range',\n",
       " '_target_tracker_id',\n",
       " '_torso_tracker_id',\n",
       " '_upright_obs_key',\n",
       " '_upright_reward',\n",
       " '_upright_threshold',\n",
       " '_use_dict_obs',\n",
       " 'action_dim',\n",
       " 'action_space',\n",
       " 'close',\n",
       " 'data',\n",
       " 'dt',\n",
       " 'env_params',\n",
       " 'get_done',\n",
       " 'get_obs_dict',\n",
       " 'get_reward_dict',\n",
       " 'get_score_dict',\n",
       " 'get_state',\n",
       " 'is_done',\n",
       " 'last_action',\n",
       " 'last_obs_dict',\n",
       " 'last_reward_dict',\n",
       " 'last_score_dict',\n",
       " 'metadata',\n",
       " 'model',\n",
       " 'np_random',\n",
       " 'obs_dim',\n",
       " 'observation_space',\n",
       " 'render',\n",
       " 'reset',\n",
       " 'reward_range',\n",
       " 'robot',\n",
       " 'seed',\n",
       " 'set_state',\n",
       " 'sim',\n",
       " 'sim_scene',\n",
       " 'spec',\n",
       " 'state_space',\n",
       " 'step',\n",
       " 'step_count',\n",
       " 'tracker',\n",
       " 'unwrapped']"
      ]
     },
     "execution_count": 14,
     "metadata": {},
     "output_type": "execute_result"
    }
   ],
   "source": [
    "dir(env)"
   ]
  },
  {
   "cell_type": "code",
   "execution_count": 3,
   "metadata": {},
   "outputs": [
    {
     "name": "stdout",
     "output_type": "stream",
     "text": [
      "Creating window glfw\n"
     ]
    }
   ],
   "source": [
    "env.render()"
   ]
  },
  {
   "cell_type": "code",
   "execution_count": 4,
   "metadata": {},
   "outputs": [],
   "source": [
    "class Args:\n",
    "    def __init__(self):\n",
    "        self.policy = \"Gaussian\"\n",
    "        self.eval = True\n",
    "        self.gamma = 0.99\n",
    "        self.tau = 0.005\n",
    "        self.lr = 0.0003\n",
    "        self.alpha = 0.2\n",
    "        self.automatic_entropy_tuning = False\n",
    "        self.batch_size = 256\n",
    "        self.num_steps = 1000001\n",
    "        self.hidden_size = 256\n",
    "        self.update_per_step = 1\n",
    "        self.start_steps = 10000\n",
    "        self.target_update_interval = 1\n",
    "        self.replay_size = 1000000\n",
    "        self.cuda = True\n",
    "args = Args()"
   ]
  },
  {
   "cell_type": "code",
   "execution_count": 5,
   "metadata": {},
   "outputs": [],
   "source": [
    "agent = SAC(env.observation_space.shape[0], env.action_space, args)"
   ]
  },
  {
   "cell_type": "code",
   "execution_count": 6,
   "metadata": {},
   "outputs": [
    {
     "name": "stdout",
     "output_type": "stream",
     "text": [
      "Loading models from ./models/sac_actor_HalfCheetah-v2_ and ./models/sac_critic_HalfCheetah-v2_\n"
     ]
    }
   ],
   "source": [
    "agent.load_model(\"./models/sac_actor_HalfCheetah-v2_\",\n",
    "\n",
    "                 \"./models/sac_critic_HalfCheetah-v2_\")"
   ]
  },
  {
   "cell_type": "code",
   "execution_count": 7,
   "metadata": {},
   "outputs": [],
   "source": [
    "from tqdm import trange"
   ]
  },
  {
   "cell_type": "code",
   "execution_count": 8,
   "metadata": {},
   "outputs": [
    {
     "data": {
      "text/plain": [
       "0.9063077870366499"
      ]
     },
     "execution_count": 8,
     "metadata": {},
     "output_type": "execute_result"
    }
   ],
   "source": [
    "import numpy as np\n",
    "np.cos(np.pi/180*25.)"
   ]
  },
  {
   "cell_type": "code",
   "execution_count": 9,
   "metadata": {},
   "outputs": [
    {
     "name": "stderr",
     "output_type": "stream",
     "text": [
      "100%|██████████| 80/80 [00:10<00:00,  7.70it/s]\n",
      "100%|██████████| 80/80 [00:09<00:00,  8.66it/s]\n",
      "100%|██████████| 80/80 [00:09<00:00,  8.71it/s]\n",
      "100%|██████████| 80/80 [00:09<00:00,  8.73it/s]\n",
      "100%|██████████| 80/80 [00:09<00:00,  8.77it/s]\n",
      "100%|██████████| 80/80 [00:09<00:00,  8.80it/s]\n",
      "100%|██████████| 80/80 [00:09<00:00,  8.75it/s]\n",
      "100%|██████████| 80/80 [00:09<00:00,  8.67it/s]\n",
      "100%|██████████| 80/80 [00:09<00:00,  8.87it/s]\n",
      "100%|██████████| 80/80 [00:09<00:00,  8.75it/s]"
     ]
    },
    {
     "name": "stdout",
     "output_type": "stream",
     "text": [
      "----------------------------------------\n",
      "Test Episodes: 10, Avg. Success: 0.0\n",
      "----------------------------------------\n",
      "Test Episodes: 10, Avg. Reward: -42213.43\n",
      "----------------------------------------\n"
     ]
    },
    {
     "name": "stderr",
     "output_type": "stream",
     "text": [
      "\n"
     ]
    }
   ],
   "source": [
    "avg_reward = 0.\n",
    "avg_success = 0.\n",
    "episodes = 10\n",
    "max_test_r = -np.inf\n",
    "for _  in range(episodes):\n",
    "    state = env.reset()\n",
    "    env.render()\n",
    "    episode_reward = 0\n",
    "    episode_success = 0\n",
    "    done = False\n",
    "    for i in trange(80):\n",
    "        action = agent.select_action(state, evaluate=True)\n",
    "        next_state, reward, done, info = env.step(action)\n",
    "        episode_reward += reward\n",
    "        state = next_state\n",
    "        if info['score/success']:\n",
    "            episode_success = 1\n",
    "    avg_success += episode_success       \n",
    "    avg_reward += episode_reward\n",
    "avg_reward /= episodes\n",
    "avg_success /= episodes\n",
    "\n",
    "print(\"----------------------------------------\")\n",
    "print(\"Test Episodes: {}, Avg. Success: {}\".format(episodes, round(avg_success, 2)))\n",
    "print(\"----------------------------------------\")\n",
    "print(\"Test Episodes: {}, Avg. Reward: {}\".format(episodes, round(avg_reward, 2)))\n",
    "print(\"----------------------------------------\")\n",
    "env.close()"
   ]
  },
  {
   "cell_type": "code",
   "execution_count": null,
   "metadata": {},
   "outputs": [],
   "source": []
  },
  {
   "cell_type": "code",
   "execution_count": null,
   "metadata": {},
   "outputs": [],
   "source": []
  },
  {
   "cell_type": "code",
   "execution_count": null,
   "metadata": {},
   "outputs": [],
   "source": []
  },
  {
   "cell_type": "code",
   "execution_count": null,
   "metadata": {},
   "outputs": [],
   "source": []
  }
 ],
 "metadata": {
  "kernelspec": {
   "display_name": "Python 3",
   "language": "python",
   "name": "python3"
  },
  "language_info": {
   "codemirror_mode": {
    "name": "ipython",
    "version": 3
   },
   "file_extension": ".py",
   "mimetype": "text/x-python",
   "name": "python",
   "nbconvert_exporter": "python",
   "pygments_lexer": "ipython3",
   "version": "3.7.4"
  }
 },
 "nbformat": 4,
 "nbformat_minor": 2
}
